{
  "nbformat": 4,
  "nbformat_minor": 0,
  "metadata": {
    "colab": {
      "provenance": [],
      "authorship_tag": "ABX9TyP3eo5e6YWv7CEH4SLej1hL",
      "include_colab_link": true
    },
    "kernelspec": {
      "name": "python3",
      "display_name": "Python 3"
    },
    "language_info": {
      "name": "python"
    }
  },
  "cells": [
    {
      "cell_type": "markdown",
      "metadata": {
        "id": "view-in-github",
        "colab_type": "text"
      },
      "source": [
        "<a href=\"https://colab.research.google.com/github/AhmadAlabrash/pyTorch/blob/main/pyTroch.ipynb\" target=\"_parent\"><img src=\"https://colab.research.google.com/assets/colab-badge.svg\" alt=\"Open In Colab\"/></a>"
      ]
    },
    {
      "cell_type": "code",
      "source": [
        "# Import dependencies\n",
        "import torch \n",
        "from PIL import Image\n",
        "from torch import nn, save, load\n",
        "from torch.optim import Adam\n",
        "from torch.utils.data import DataLoader\n",
        "from torchvision import datasets\n",
        "from torchvision.transforms import ToTensor"
      ],
      "metadata": {
        "id": "zWFZrS-fM7Ll"
      },
      "execution_count": null,
      "outputs": []
    },
    {
      "cell_type": "code",
      "source": [
        "# Get data \n",
        "train = datasets.MNIST(root=\"data\", download=True, train=True, transform=ToTensor())\n",
        "dataset = DataLoader(train, 32)\n",
        "#1,28,28 - classes 0-9"
      ],
      "metadata": {
        "id": "hr5ISmTKNJJR"
      },
      "execution_count": null,
      "outputs": []
    },
    {
      "cell_type": "code",
      "source": [
        "# Image Classifier Neural Network\n",
        "class ImageClassifier(nn.Module): \n",
        "    def __init__(self):\n",
        "        super().__init__()\n",
        "        self.model = nn.Sequential(\n",
        "            nn.Conv2d(1, 32, (3,3)), \n",
        "            nn.ReLU(),\n",
        "            nn.Conv2d(32, 64, (3,3)), \n",
        "            nn.ReLU(),\n",
        "            nn.Conv2d(64, 64, (3,3)), \n",
        "            nn.ReLU(),\n",
        "            nn.Flatten(), \n",
        "            nn.Linear(64*(28-6)*(28-6), 10)  \n",
        "        )\n",
        "\n",
        "    def forward(self, x): \n",
        "        return self.model(x)\n"
      ],
      "metadata": {
        "id": "QH57RobmNYke"
      },
      "execution_count": null,
      "outputs": []
    },
    {
      "cell_type": "code",
      "source": [
        "# Instance of the neural network, loss, optimizer \n",
        "clf = ImageClassifier()\n",
        "opt = Adam(clf.parameters(), lr=1e-3)\n",
        "loss_fn = nn.CrossEntropyLoss() \n"
      ],
      "metadata": {
        "id": "grCRhEDjNfzq"
      },
      "execution_count": null,
      "outputs": []
    },
    {
      "cell_type": "code",
      "source": [
        "# Python program to execute\n",
        "# main directly\n",
        "print (\"Always executed\")\n",
        "\n",
        "if __name__ == \"__main__\":\n",
        "\tprint (\"Executed when invoked directly\")\n",
        "else:\n",
        "\tprint (\"Executed when imported\")\n"
      ],
      "metadata": {
        "colab": {
          "base_uri": "https://localhost:8080/"
        },
        "id": "41ynxRJgOZZt",
        "outputId": "09128ab0-bc8d-4b7a-dd70-c13787b891df"
      },
      "execution_count": null,
      "outputs": [
        {
          "output_type": "stream",
          "name": "stdout",
          "text": [
            "Always executed\n",
            "Executed when invoked directly\n"
          ]
        }
      ]
    },
    {
      "cell_type": "code",
      "source": [
        "# Training flow \n",
        "if __name__ == \"__main__\": \n",
        "    for epoch in range(10): # train for 10 epochs\n",
        "        for batch in dataset: \n",
        "            X,y = batch \n",
        "            X, y = X.to('cpu'), y.to('cpu') \n",
        "            yhat = clf(X) \n",
        "            loss = loss_fn(yhat, y) \n",
        "\n",
        "            # Apply backprop \n",
        "            opt.zero_grad()\n",
        "            loss.backward() \n",
        "            opt.step() \n",
        "\n",
        "        print(f\"Epoch:{epoch} loss is {loss.item()}\")"
      ],
      "metadata": {
        "colab": {
          "base_uri": "https://localhost:8080/"
        },
        "id": "_RQMtxEDOmoM",
        "outputId": "1444f3e6-3eb1-453a-d38f-8c7ff8b721ce"
      },
      "execution_count": null,
      "outputs": [
        {
          "output_type": "stream",
          "name": "stdout",
          "text": [
            "Epoch:0 loss is 0.004853858612477779\n",
            "Epoch:1 loss is 0.004876514431089163\n",
            "Epoch:2 loss is 0.00026966206496581435\n",
            "Epoch:3 loss is 2.6274254196323454e-05\n",
            "Epoch:4 loss is 5.446228442451684e-06\n",
            "Epoch:5 loss is 0.0009737320360727608\n",
            "Epoch:6 loss is 7.237925274239387e-06\n",
            "Epoch:7 loss is 7.169817399699241e-05\n",
            "Epoch:8 loss is 8.113107469398528e-06\n",
            "Epoch:9 loss is 0.004524220712482929\n"
          ]
        }
      ]
    },
    {
      "cell_type": "code",
      "source": [
        " with open('model_state.pt', 'wb') as f: \n",
        "        save(clf.state_dict(), f) "
      ],
      "metadata": {
        "id": "E_1nEMDlOvWt"
      },
      "execution_count": null,
      "outputs": []
    },
    {
      "cell_type": "code",
      "source": [
        "    with open('model_state.pt', 'rb') as f: \n",
        "        clf.load_state_dict(load(f))  \n",
        "\n",
        "    img = Image.open('img_3.jpg') \n",
        "    img_tensor = ToTensor()(img).unsqueeze(0).to('cuda')\n",
        "\n",
        "    print(torch.argmax(clf(img_tensor)))"
      ],
      "metadata": {
        "colab": {
          "base_uri": "https://localhost:8080/"
        },
        "id": "os38yTGkO0vg",
        "outputId": "e9dcd2eb-3e86-441e-e68f-704171a1c349"
      },
      "execution_count": null,
      "outputs": [
        {
          "output_type": "error",
          "ename": "NameError",
          "evalue": "ignored",
          "traceback": [
            "\u001b[0;31m---------------------------------------------------------------------------\u001b[0m",
            "\u001b[0;31mNameError\u001b[0m                                 Traceback (most recent call last)",
            "\u001b[0;32m<ipython-input-1-48cf6e252290>\u001b[0m in \u001b[0;36m<module>\u001b[0;34m\u001b[0m\n\u001b[1;32m      1\u001b[0m \u001b[0;32mwith\u001b[0m \u001b[0mopen\u001b[0m\u001b[0;34m(\u001b[0m\u001b[0;34m'model_state.pt'\u001b[0m\u001b[0;34m,\u001b[0m \u001b[0;34m'rb'\u001b[0m\u001b[0;34m)\u001b[0m \u001b[0;32mas\u001b[0m \u001b[0mf\u001b[0m\u001b[0;34m:\u001b[0m\u001b[0;34m\u001b[0m\u001b[0;34m\u001b[0m\u001b[0m\n\u001b[0;32m----> 2\u001b[0;31m     \u001b[0mclf\u001b[0m\u001b[0;34m.\u001b[0m\u001b[0mload_state_dict\u001b[0m\u001b[0;34m(\u001b[0m\u001b[0mload\u001b[0m\u001b[0;34m(\u001b[0m\u001b[0mf\u001b[0m\u001b[0;34m)\u001b[0m\u001b[0;34m)\u001b[0m\u001b[0;34m\u001b[0m\u001b[0;34m\u001b[0m\u001b[0m\n\u001b[0m\u001b[1;32m      3\u001b[0m \u001b[0;34m\u001b[0m\u001b[0m\n\u001b[1;32m      4\u001b[0m \u001b[0mimg\u001b[0m \u001b[0;34m=\u001b[0m \u001b[0mImage\u001b[0m\u001b[0;34m.\u001b[0m\u001b[0mopen\u001b[0m\u001b[0;34m(\u001b[0m\u001b[0;34m'img_3.jpg'\u001b[0m\u001b[0;34m)\u001b[0m\u001b[0;34m\u001b[0m\u001b[0;34m\u001b[0m\u001b[0m\n\u001b[1;32m      5\u001b[0m \u001b[0mimg_tensor\u001b[0m \u001b[0;34m=\u001b[0m \u001b[0mToTensor\u001b[0m\u001b[0;34m(\u001b[0m\u001b[0;34m)\u001b[0m\u001b[0;34m(\u001b[0m\u001b[0mimg\u001b[0m\u001b[0;34m)\u001b[0m\u001b[0;34m.\u001b[0m\u001b[0munsqueeze\u001b[0m\u001b[0;34m(\u001b[0m\u001b[0;36m0\u001b[0m\u001b[0;34m)\u001b[0m\u001b[0;34m.\u001b[0m\u001b[0mto\u001b[0m\u001b[0;34m(\u001b[0m\u001b[0;34m'cuda'\u001b[0m\u001b[0;34m)\u001b[0m\u001b[0;34m\u001b[0m\u001b[0;34m\u001b[0m\u001b[0m\n",
            "\u001b[0;31mNameError\u001b[0m: name 'clf' is not defined"
          ]
        }
      ]
    },
    {
      "cell_type": "code",
      "execution_count": null,
      "metadata": {
        "id": "K9rXG3FkK6bk"
      },
      "outputs": [],
      "source": [
        "# Import dependencies\n",
        "import torch \n",
        "from PIL import Image\n",
        "from torch import nn, save, load\n",
        "from torch.optim import Adam\n",
        "from torch.utils.data import DataLoader\n",
        "from torchvision import datasets\n",
        "from torchvision.transforms import ToTensor\n",
        "\n",
        "# Get data \n",
        "train = datasets.MNIST(root=\"data\", download=True, train=True, transform=ToTensor())\n",
        "dataset = DataLoader(train, 32)\n",
        "#1,28,28 - classes 0-9\n",
        "\n",
        "# Image Classifier Neural Network\n",
        "class ImageClassifier(nn.Module): \n",
        "    def __init__(self):\n",
        "        super().__init__()\n",
        "        self.model = nn.Sequential(\n",
        "            nn.Conv2d(1, 32, (3,3)), \n",
        "            nn.ReLU(),\n",
        "            nn.Conv2d(32, 64, (3,3)), \n",
        "            nn.ReLU(),\n",
        "            nn.Conv2d(64, 64, (3,3)), \n",
        "            nn.ReLU(),\n",
        "            nn.Flatten(), \n",
        "            nn.Linear(64*(28-6)*(28-6), 10)  \n",
        "        )\n",
        "\n",
        "    def forward(self, x): \n",
        "        return self.model(x)\n",
        "\n",
        "# Instance of the neural network, loss, optimizer \n",
        "clf = ImageClassifier().to('cuda')\n",
        "opt = Adam(clf.parameters(), lr=1e-3)\n",
        "loss_fn = nn.CrossEntropyLoss() \n",
        "\n",
        "# Training flow \n",
        "if __name__ == \"__main__\": \n",
        "    for epoch in range(10): # train for 10 epochs\n",
        "        for batch in dataset: \n",
        "            X,y = batch \n",
        "            X, y = X.to('cuda'), y.to('cuda') \n",
        "            yhat = clf(X) \n",
        "            loss = loss_fn(yhat, y) \n",
        "\n",
        "            # Apply backprop \n",
        "            opt.zero_grad()\n",
        "            loss.backward() \n",
        "            opt.step() \n",
        "\n",
        "        print(f\"Epoch:{epoch} loss is {loss.item()}\")\n",
        "    \n",
        "    with open('model_state.pt', 'wb') as f: \n",
        "        save(clf.state_dict(), f) \n",
        "\n",
        "    with open('model_state.pt', 'rb') as f: \n",
        "        clf.load_state_dict(load(f))  \n",
        "\n",
        "    img = Image.open('img_3.jpg') \n",
        "    img_tensor = ToTensor()(img).unsqueeze(0).to('cuda')\n",
        "\n",
        "    print(torch.argmax(clf(img_tensor)))"
      ]
    }
  ]
}